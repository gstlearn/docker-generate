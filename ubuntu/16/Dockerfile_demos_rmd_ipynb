FROM ubuntu:16.04

RUN apt-get update

# Install compulsory tools
# ==============================================================
RUN apt-get install -y apt-utils &&\
    apt-get install -y wget &&\
    apt-get install -y make &&\
    apt-get install -y g++ &&\
    apt-get install -y git

# Install dev libs (for Python)
# ==============================================================
RUN apt-get install -y zlib1g-dev &&\
    apt-get install -y libffi-dev &&\
    apt-get install -y libssl-dev &&\
    apt-get install -y pandoc &&\
    apt-get install -y libsuitesparse-dev &&\
    apt-get install -y libsqlite3-dev

# Install dev libs & tools (for R)
# ==============================================================
RUN apt-get install -y gfortran &&\
    apt-get install -y libtiff5-dev &&\
    apt-get install -y tzdata &&\
    apt-get install -y libbz2-dev &&\
    apt-get install -y libcairo2-dev &&\
    apt-get install -y libxt-dev &&\
    apt-get install -y liblzma-dev &&\
    apt-get install -y texlive-latex-extra &&\
    apt-get install -y texlive-fonts-extra &&\
    apt-get install -y libpcre++-dev &&\
    apt-get install -y libcurl4-openssl-dev

# Install dev libs & tools (for swig)
# ==============================================================
RUN apt-get install -y bison &&\
    apt-get install -y libpcre2-dev
    
# Install recent cmake (from source)
# ==============================================================
# https://gist.github.com/sergio-gimenez/b17b3ff894366627dbf3cb9682d0c3d2
RUN apt-get install -y apt-transport-https ca-certificates gnupg software-properties-common &&\
    wget -qO - https://apt.kitware.com/keys/kitware-archive-latest.asc | apt-key add - &&\
    apt-add-repository 'deb https://apt.kitware.com/ubuntu/ xenial main' &&\
    apt-get update &&\
    apt-get install -y cmake

# Install recent openssl (for py311) (from source)
# ==============================================================
RUN wget https://www.openssl.org/source/openssl-1.1.1g.tar.gz &&\
    tar xvf openssl-1.1.1g.tar.gz &&\
    cd openssl-1.1.1g &&\
    ./config --prefix=/usr/openssl --openssldir=/usr/openssl no-ssl2 &&\
    make -j 8 &&\
    make install &&\
    cd .. &&\
    rm -rf openssl-1.1.1g*

# Install swig [customized] (from source)
# ==============================================================
# TODO : Use a tagged realease (not the master branch)
RUN git clone https://github.com/fabien-ors/swig &&\
    cd swig &&\
    cmake -Bbuild &&\
    cd build &&\
    make &&\
    make install &&\
    cd ../.. &&\
    rm -rf swig

# Install dev libs & tools (for gstlearn)
# ==============================================================
RUN apt-get install -y libboost-dev &&\
    apt-get install -y doxygen

# Install HDF5 lib (for gstlearn)
# ==============================================================
RUN wget https://support.hdfgroup.org/ftp/HDF5/releases/hdf5-1.12/hdf5-1.12.1/src/CMake-hdf5-1.12.1.tar.gz &&\
    tar -xvf CMake-hdf5-1.12.1.tar.gz &&\
    cd CMake-hdf5-1.12.1 &&\
    mkdir build &&\
    cd build &&\
    cmake -DHDF5_GENERATE_HEADERS:BOOL=OFF -DBUILD_SHARED_LIBS:BOOL=OFF -DDEFAULT_API_VERSION:STRING=v110 -DCMAKE_BUILD_TYPE:STRING=Release -DHDF5_BUILD_FORTRAN:BOOL=OFF -DHDF5_BUILD_CPP_LIB:BOOL=ON -DHDF5_BUILD_JAVA:BOOL=OFF -DCMAKE_INSTALL_PREFIX:PATH=/opt/hdf5-1.12.1 -DHDF5_ENABLE_SZIP_SUPPORT:BOOL=OFF -DHDF5_ENABLE_Z_LIB_SUPPORT:BOOL=OFF -DBUILD_TESTING:BOOL=OFF -DHDF5_BUILD_TOOLS:BOOL=OFF ../hdf5-1.12.1 &&\
    make -j 8 &&\
    make install &&\
    cd ../.. &&\
    rm -rf CMake-hdf5-1.12.1*
    
# Install last version of R (from source) + packages
# ==============================================================
RUN wget https://cran.r-project.org/src/base/R-4/R-4.3.0.tar.gz &&\
    tar -xvf R-4.3.0.tar.gz &&\
    cd R-4.3.0 &&\
    ./configure --with-readline=no -with-x=no --with-pcre1 --enable-R-shlib &&\
    make &&\
    make install &&\
    cd .. &&\
    rm -rf R-4.3.0*

RUN Rscript -e "install.packages (c('knitr', 'rmarkdown', 'ggplot2', 'ggpubr', 'Matrix', 'FNN'), repos='https://cloud.r-project.org/')"

# Install last version of Python (from source) + packages
# ==============================================================
# Use recent openssl
# https://github.com/urllib3/urllib3/issues/2168
RUN wget https://www.python.org/ftp/python/3.11.1/Python-3.11.1.tgz &&\
    tar xvf Python-3.11.1.tgz &&\
    cd Python-3.11.1 &&\
    ./configure --prefix=/opt/python/py311/ --enable-loadable-sqlite-extensions --with-openssl=/usr/openssl --with-openssl-rpath=/usr/openssl/lib&&\
    make -j 8 &&\
    make install &&\
    export PATH=/opt/python/py311/bin:/usr/local/sbin:/usr/local/bin:/usr/sbin:/usr/bin:/sbin:/bin &&\
    python3 -m pip install "pybind11[global]" wheel numpy jupyter pandas scipy matplotlib pypandoc geopandas plotly scikit-sparse &&\
    cd .. &&\
    rm -rf Python-3.11.1*




