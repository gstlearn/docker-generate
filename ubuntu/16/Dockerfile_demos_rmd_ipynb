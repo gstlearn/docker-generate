FROM fabienors/ubuntu-16-demos-rmd-ipynb

# Install dev libs & tools (for gstlearn)
# ==============================================================
RUN apt-get install -y libboost-dev &&\
    apt-get install -y libsuitesparse-dev &&\
    apt-get install -y libopenmpi-dev &&\
    apt-get install -y doxygen &&\
    apt-get install -y curl

# Install recent Eigen3 header files (for gstlearn)
# ==============================================================
RUN mkdir eigen_src &&\
    curl --progress-bar --location --output eigen_src/download.zip "https://gitlab.com/libeigen/eigen/-/archive/3.4.0/eigen-3.4.0.zip" &&\
    7z -oeigen_src x eigen_src/download.zip -y -bd &&\
    cd eigen_src &&\
    cd eigen-* &&\
    cmake -Bbuild &&\
    cmake --build build --target install

# Install HDF5 lib (for gstlearn)
# ==============================================================
RUN wget https://support.hdfgroup.org/ftp/HDF5/releases/hdf5-1.12/hdf5-1.12.1/src/CMake-hdf5-1.12.1.tar.gz &&\
    tar -xvf CMake-hdf5-1.12.1.tar.gz &&\
    cd CMake-hdf5-1.12.1 &&\
    mkdir build &&\
    cd build &&\
    cmake -DHDF5_GENERATE_HEADERS:BOOL=OFF -DBUILD_SHARED_LIBS:BOOL=OFF -DDEFAULT_API_VERSION:STRING=v110 -DCMAKE_BUILD_TYPE:STRING=Release -DHDF5_BUILD_FORTRAN:BOOL=OFF -DHDF5_BUILD_CPP_LIB:BOOL=ON -DHDF5_BUILD_JAVA:BOOL=OFF -DCMAKE_INSTALL_PREFIX:PATH=/opt/hdf5-1.12.1 -DHDF5_ENABLE_SZIP_SUPPORT:BOOL=OFF -DHDF5_ENABLE_Z_LIB_SUPPORT:BOOL=OFF -DBUILD_TESTING:BOOL=OFF -DHDF5_BUILD_TOOLS:BOOL=OFF ../hdf5-1.12.1 &&\
    make -j 8 &&\
    make install &&\
    cd ../.. &&\
    rm -rf CMake-hdf5-1.12.1*

# Install R packages dependencies (used by demos)
# ==============================================================
RUN Rscript -e "install.packages (c('ggplot2', 'ggpubr', 'ggrepel', 'ggnewscale', 'lares', 'Matrix', 'FNN'), repos='https://cloud.r-project.org/')"

# Install Python packages dependencies (used by demos)
# ==============================================================
RUN export PATH=/opt/python/py311/bin:/usr/local/sbin:/usr/local/bin:/usr/sbin:/usr/bin:/sbin:/bin &&\
    python3 -m pip install pandas scipy matplotlib geopandas plotly scikit-sparse shapely






